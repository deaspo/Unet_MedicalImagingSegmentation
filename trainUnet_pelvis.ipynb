{
 "cells": [
  {
   "cell_type": "code",
   "execution_count": 1,
   "metadata": {
    "colab": {},
    "colab_type": "code",
    "id": "jy_2-BghSVce"
   },
   "outputs": [
    {
     "name": "stderr",
     "output_type": "stream",
     "text": [
      "Using TensorFlow backend.\n"
     ]
    }
   ],
   "source": [
    "from model import *\n",
    "from data import *"
   ]
  },
  {
   "cell_type": "markdown",
   "metadata": {
    "colab_type": "text",
    "id": "QpsQS266SQcS"
   },
   "source": [
    "## Train your Unet with medical data - Pelvis\n",
    "it is a binary classification task.\n",
    "\n",
    "The input shape of image and mask are the same :(batch_size,rows,cols,channel = 1)"
   ]
  },
  {
   "cell_type": "markdown",
   "metadata": {
    "colab_type": "text",
    "id": "HiMahBZNSQcT"
   },
   "source": [
    "### Set hyperparameters\n",
    "\n",
    "* epochs_no - more runs and improvs generalisation of the model\n",
    "* batch_size - number of samples to run at each epoch step"
   ]
  },
  {
   "cell_type": "code",
   "execution_count": 2,
   "metadata": {},
   "outputs": [],
   "source": [
    "# Hyper parametrs\n",
    "batch_size = 8\n",
    "epochs_no = 2000\n",
    "steps_per_epoch = epochs_no / batch_size\n",
    "epochs_no = 50"
   ]
  },
  {
   "cell_type": "markdown",
   "metadata": {},
   "source": [
    "### Model Definition"
   ]
  },
  {
   "cell_type": "code",
   "execution_count": 3,
   "metadata": {},
   "outputs": [
    {
     "name": "stderr",
     "output_type": "stream",
     "text": [
      "D:\\Research\\ML\\unet_ml\\model.py:55: UserWarning: Update your `Model` call to the Keras 2 API: `Model(outputs=Tensor(\"co..., inputs=Tensor(\"in...)`\n",
      "  model = Model(input = inputs, output = conv10)\n"
     ]
    }
   ],
   "source": [
    "input_size = (256,256,1) # actual data\n",
    "#input_size = (256,256,1) # Augmented data\n",
    "model = unet(input_size=input_size)\n",
    "model_checkpoint = ModelCheckpoint('unet_pelvis.hdf5', monitor='loss',verbose=1, save_best_only=True)"
   ]
  },
  {
   "cell_type": "code",
   "execution_count": null,
   "metadata": {},
   "outputs": [],
   "source": [
    "# callbacks = [ModelCheckpoint(filepathAcc, monitor='val_acc', ...),ModelCheckpoint(filepathLoss, monitor='val_loss', ...)]"
   ]
  },
  {
   "cell_type": "markdown",
   "metadata": {},
   "source": [
    "### Train with data generator"
   ]
  },
  {
   "cell_type": "code",
   "execution_count": 4,
   "metadata": {
    "colab": {
     "base_uri": "https://localhost:8080/",
     "height": 2550
    },
    "colab_type": "code",
    "executionInfo": {
     "elapsed": 9929571,
     "status": "error",
     "timestamp": 1557936099610,
     "user": {
      "displayName": "Polycarp Omondi Okock",
      "photoUrl": "https://lh6.googleusercontent.com/-EU3oIny4yXk/AAAAAAAAAAI/AAAAAAAAIAU/RmdKW9Vydf0/s64/photo.jpg",
      "userId": "13920548887298274898"
     },
     "user_tz": -60
    },
    "id": "et43jcK1SQcU",
    "outputId": "d631b7e6-7aa6-4e59-8ccc-fb367eaca8bf"
   },
   "outputs": [],
   "source": [
    "#if you don't want to do data augmentation, set data_gen_args as an empty dict.\n",
    "#data_gen_args = dict()\n",
    "\n",
    "data_gen_args = dict(rotation_range=0.2,\n",
    "                    width_shift_range=0.05,\n",
    "                    height_shift_range=0.05,\n",
    "                    shear_range=0.05,\n",
    "                    zoom_range=0.05,\n",
    "                    horizontal_flip=True,\n",
    "                    fill_mode='nearest')"
   ]
  },
  {
   "cell_type": "code",
   "execution_count": 5,
   "metadata": {
    "colab": {
     "base_uri": "https://localhost:8080/",
     "height": 2550
    },
    "colab_type": "code",
    "executionInfo": {
     "elapsed": 9929571,
     "status": "error",
     "timestamp": 1557936099610,
     "user": {
      "displayName": "Polycarp Omondi Okock",
      "photoUrl": "https://lh6.googleusercontent.com/-EU3oIny4yXk/AAAAAAAAAAI/AAAAAAAAIAU/RmdKW9Vydf0/s64/photo.jpg",
      "userId": "13920548887298274898"
     },
     "user_tz": -60
    },
    "id": "et43jcK1SQcU",
    "outputId": "d631b7e6-7aa6-4e59-8ccc-fb367eaca8bf"
   },
   "outputs": [],
   "source": [
    "# Actual data size ~train, label folders and uses augmented saved data in ~aug folder\n",
    "myGene = trainGenerator(batch_size,'data/pelvis/train','image','label',data_gen_args,save_to_dir = None)\n",
    "\n",
    "# Downsampled data and no augmentation\n",
    "#myGene = trainGenerator(batch_size,'data/pelvis/train','image_downsampled','label_downsampled',data_gen_args,save_to_dir = None)"
   ]
  },
  {
   "cell_type": "code",
   "execution_count": 6,
   "metadata": {
    "colab": {
     "base_uri": "https://localhost:8080/",
     "height": 2550
    },
    "colab_type": "code",
    "executionInfo": {
     "elapsed": 9929571,
     "status": "error",
     "timestamp": 1557936099610,
     "user": {
      "displayName": "Polycarp Omondi Okock",
      "photoUrl": "https://lh6.googleusercontent.com/-EU3oIny4yXk/AAAAAAAAAAI/AAAAAAAAIAU/RmdKW9Vydf0/s64/photo.jpg",
      "userId": "13920548887298274898"
     },
     "user_tz": -60
    },
    "id": "et43jcK1SQcU",
    "outputId": "d631b7e6-7aa6-4e59-8ccc-fb367eaca8bf"
   },
   "outputs": [
    {
     "name": "stdout",
     "output_type": "stream",
     "text": [
      "Epoch 1/50\n",
      "Found 98 images belonging to 1 classes.\n",
      "Found 98 images belonging to 1 classes.\n",
      "250/250 [==============================] - 202s 807ms/step - loss: 0.0438 - acc: 0.9861\n",
      "\n",
      "Epoch 00001: loss improved from inf to 0.04453, saving model to unet_pelvis.hdf5\n",
      "Epoch 2/50\n",
      "250/250 [==============================] - 189s 756ms/step - loss: 0.0130 - acc: 0.9945\n",
      "\n",
      "Epoch 00002: loss improved from 0.04453 to 0.01299, saving model to unet_pelvis.hdf5\n",
      "Epoch 3/50\n",
      "250/250 [==============================] - 190s 761ms/step - loss: 0.0102 - acc: 0.9957\n",
      "\n",
      "Epoch 00003: loss improved from 0.01299 to 0.01025, saving model to unet_pelvis.hdf5\n",
      "Epoch 4/50\n",
      "250/250 [==============================] - 190s 758ms/step - loss: 0.0089 - acc: 0.9962\n",
      "\n",
      "Epoch 00004: loss improved from 0.01025 to 0.00899, saving model to unet_pelvis.hdf5\n",
      "Epoch 5/50\n",
      "250/250 [==============================] - 190s 760ms/step - loss: 0.0082 - acc: 0.9965\n",
      "\n",
      "Epoch 00005: loss improved from 0.00899 to 0.00817, saving model to unet_pelvis.hdf5\n",
      "Epoch 6/50\n",
      "250/250 [==============================] - 188s 752ms/step - loss: 0.0077 - acc: 0.9967\n",
      "\n",
      "Epoch 00006: loss improved from 0.00817 to 0.00765, saving model to unet_pelvis.hdf5\n",
      "Epoch 7/50\n",
      "250/250 [==============================] - 189s 757ms/step - loss: 0.0073 - acc: 0.9969\n",
      "\n",
      "Epoch 00007: loss improved from 0.00765 to 0.00735, saving model to unet_pelvis.hdf5\n",
      "Epoch 8/50\n",
      "250/250 [==============================] - 190s 761ms/step - loss: 0.0071 - acc: 0.9970\n",
      "\n",
      "Epoch 00008: loss improved from 0.00735 to 0.00714, saving model to unet_pelvis.hdf5\n",
      "Epoch 9/50\n",
      "250/250 [==============================] - 189s 757ms/step - loss: 0.0068 - acc: 0.9971\n",
      "\n",
      "Epoch 00009: loss improved from 0.00714 to 0.00687, saving model to unet_pelvis.hdf5\n",
      "Epoch 10/50\n",
      "250/250 [==============================] - 189s 758ms/step - loss: 0.0067 - acc: 0.9971\n",
      "\n",
      "Epoch 00010: loss improved from 0.00687 to 0.00671, saving model to unet_pelvis.hdf5\n",
      "Epoch 11/50\n",
      "250/250 [==============================] - 189s 755ms/step - loss: 0.0066 - acc: 0.9972\n",
      "\n",
      "Epoch 00011: loss improved from 0.00671 to 0.00660, saving model to unet_pelvis.hdf5\n",
      "Epoch 12/50\n",
      "250/250 [==============================] - 189s 756ms/step - loss: 0.0064 - acc: 0.9972\n",
      "\n",
      "Epoch 00012: loss improved from 0.00660 to 0.00645, saving model to unet_pelvis.hdf5\n",
      "Epoch 13/50\n",
      "250/250 [==============================] - 188s 752ms/step - loss: 0.0064 - acc: 0.9972\n",
      "\n",
      "Epoch 00013: loss improved from 0.00645 to 0.00641, saving model to unet_pelvis.hdf5\n",
      "Epoch 14/50\n",
      "250/250 [==============================] - 189s 755ms/step - loss: 0.0061 - acc: 0.9973\n",
      "\n",
      "Epoch 00014: loss improved from 0.00641 to 0.00614, saving model to unet_pelvis.hdf5\n",
      "Epoch 15/50\n",
      "250/250 [==============================] - 188s 754ms/step - loss: 0.0061 - acc: 0.9973\n",
      "\n",
      "Epoch 00015: loss did not improve from 0.00614\n",
      "Epoch 16/50\n",
      "250/250 [==============================] - 188s 753ms/step - loss: 0.0060 - acc: 0.9974\n",
      "\n",
      "Epoch 00016: loss improved from 0.00614 to 0.00599, saving model to unet_pelvis.hdf5\n",
      "Epoch 17/50\n",
      "250/250 [==============================] - 188s 754ms/step - loss: 0.0059 - acc: 0.9974\n",
      "\n",
      "Epoch 00017: loss improved from 0.00599 to 0.00594, saving model to unet_pelvis.hdf5\n",
      "Epoch 18/50\n",
      "250/250 [==============================] - 189s 755ms/step - loss: 0.0058 - acc: 0.9975\n",
      "\n",
      "Epoch 00018: loss improved from 0.00594 to 0.00578, saving model to unet_pelvis.hdf5\n",
      "Epoch 19/50\n",
      "250/250 [==============================] - 189s 756ms/step - loss: 0.0058 - acc: 0.9975\n",
      "\n",
      "Epoch 00019: loss did not improve from 0.00578\n",
      "Epoch 20/50\n",
      "250/250 [==============================] - 188s 752ms/step - loss: 0.0057 - acc: 0.9975\n",
      "\n",
      "Epoch 00020: loss improved from 0.00578 to 0.00572, saving model to unet_pelvis.hdf5\n",
      "Epoch 21/50\n",
      "250/250 [==============================] - 189s 756ms/step - loss: 0.0056 - acc: 0.9976\n",
      "\n",
      "Epoch 00021: loss improved from 0.00572 to 0.00556, saving model to unet_pelvis.hdf5\n",
      "Epoch 22/50\n",
      "250/250 [==============================] - 189s 758ms/step - loss: 0.0056 - acc: 0.9976\n",
      "\n",
      "Epoch 00022: loss did not improve from 0.00556\n",
      "Epoch 23/50\n",
      " 14/250 [>.............................] - ETA: 3:01 - loss: 0.0056 - acc: 0.9976"
     ]
    },
    {
     "ename": "KeyboardInterrupt",
     "evalue": "",
     "output_type": "error",
     "traceback": [
      "\u001b[1;31m---------------------------------------------------------------------------\u001b[0m",
      "\u001b[1;31mKeyboardInterrupt\u001b[0m                         Traceback (most recent call last)",
      "\u001b[1;32m<ipython-input-6-2a583de9ef19>\u001b[0m in \u001b[0;36m<module>\u001b[1;34m()\u001b[0m\n\u001b[1;32m----> 1\u001b[1;33m \u001b[0mmodel\u001b[0m\u001b[1;33m.\u001b[0m\u001b[0mfit_generator\u001b[0m\u001b[1;33m(\u001b[0m\u001b[0mmyGene\u001b[0m\u001b[1;33m,\u001b[0m\u001b[0msteps_per_epoch\u001b[0m\u001b[1;33m=\u001b[0m\u001b[0msteps_per_epoch\u001b[0m\u001b[1;33m,\u001b[0m\u001b[0mepochs\u001b[0m\u001b[1;33m=\u001b[0m\u001b[0mepochs_no\u001b[0m\u001b[1;33m,\u001b[0m\u001b[0mcallbacks\u001b[0m\u001b[1;33m=\u001b[0m\u001b[1;33m[\u001b[0m\u001b[0mmodel_checkpoint\u001b[0m\u001b[1;33m]\u001b[0m\u001b[1;33m)\u001b[0m\u001b[1;33m\u001b[0m\u001b[0m\n\u001b[0m",
      "\u001b[1;32mD:\\ProgramData\\Anaconda3\\envs\\tensorflowGPU\\lib\\site-packages\\keras\\legacy\\interfaces.py\u001b[0m in \u001b[0;36mwrapper\u001b[1;34m(*args, **kwargs)\u001b[0m\n\u001b[0;32m     89\u001b[0m                 warnings.warn('Update your `' + object_name +\n\u001b[0;32m     90\u001b[0m                               '` call to the Keras 2 API: ' + signature, stacklevel=2)\n\u001b[1;32m---> 91\u001b[1;33m             \u001b[1;32mreturn\u001b[0m \u001b[0mfunc\u001b[0m\u001b[1;33m(\u001b[0m\u001b[1;33m*\u001b[0m\u001b[0margs\u001b[0m\u001b[1;33m,\u001b[0m \u001b[1;33m**\u001b[0m\u001b[0mkwargs\u001b[0m\u001b[1;33m)\u001b[0m\u001b[1;33m\u001b[0m\u001b[0m\n\u001b[0m\u001b[0;32m     92\u001b[0m         \u001b[0mwrapper\u001b[0m\u001b[1;33m.\u001b[0m\u001b[0m_original_function\u001b[0m \u001b[1;33m=\u001b[0m \u001b[0mfunc\u001b[0m\u001b[1;33m\u001b[0m\u001b[0m\n\u001b[0;32m     93\u001b[0m         \u001b[1;32mreturn\u001b[0m \u001b[0mwrapper\u001b[0m\u001b[1;33m\u001b[0m\u001b[0m\n",
      "\u001b[1;32mD:\\ProgramData\\Anaconda3\\envs\\tensorflowGPU\\lib\\site-packages\\keras\\engine\\training.py\u001b[0m in \u001b[0;36mfit_generator\u001b[1;34m(self, generator, steps_per_epoch, epochs, verbose, callbacks, validation_data, validation_steps, class_weight, max_queue_size, workers, use_multiprocessing, shuffle, initial_epoch)\u001b[0m\n\u001b[0;32m   1413\u001b[0m             \u001b[0muse_multiprocessing\u001b[0m\u001b[1;33m=\u001b[0m\u001b[0muse_multiprocessing\u001b[0m\u001b[1;33m,\u001b[0m\u001b[1;33m\u001b[0m\u001b[0m\n\u001b[0;32m   1414\u001b[0m             \u001b[0mshuffle\u001b[0m\u001b[1;33m=\u001b[0m\u001b[0mshuffle\u001b[0m\u001b[1;33m,\u001b[0m\u001b[1;33m\u001b[0m\u001b[0m\n\u001b[1;32m-> 1415\u001b[1;33m             initial_epoch=initial_epoch)\n\u001b[0m\u001b[0;32m   1416\u001b[0m \u001b[1;33m\u001b[0m\u001b[0m\n\u001b[0;32m   1417\u001b[0m     \u001b[1;33m@\u001b[0m\u001b[0minterfaces\u001b[0m\u001b[1;33m.\u001b[0m\u001b[0mlegacy_generator_methods_support\u001b[0m\u001b[1;33m\u001b[0m\u001b[0m\n",
      "\u001b[1;32mD:\\ProgramData\\Anaconda3\\envs\\tensorflowGPU\\lib\\site-packages\\keras\\engine\\training_generator.py\u001b[0m in \u001b[0;36mfit_generator\u001b[1;34m(model, generator, steps_per_epoch, epochs, verbose, callbacks, validation_data, validation_steps, class_weight, max_queue_size, workers, use_multiprocessing, shuffle, initial_epoch)\u001b[0m\n\u001b[0;32m    211\u001b[0m                 outs = model.train_on_batch(x, y,\n\u001b[0;32m    212\u001b[0m                                             \u001b[0msample_weight\u001b[0m\u001b[1;33m=\u001b[0m\u001b[0msample_weight\u001b[0m\u001b[1;33m,\u001b[0m\u001b[1;33m\u001b[0m\u001b[0m\n\u001b[1;32m--> 213\u001b[1;33m                                             class_weight=class_weight)\n\u001b[0m\u001b[0;32m    214\u001b[0m \u001b[1;33m\u001b[0m\u001b[0m\n\u001b[0;32m    215\u001b[0m                 \u001b[0mouts\u001b[0m \u001b[1;33m=\u001b[0m \u001b[0mto_list\u001b[0m\u001b[1;33m(\u001b[0m\u001b[0mouts\u001b[0m\u001b[1;33m)\u001b[0m\u001b[1;33m\u001b[0m\u001b[0m\n",
      "\u001b[1;32mD:\\ProgramData\\Anaconda3\\envs\\tensorflowGPU\\lib\\site-packages\\keras\\engine\\training.py\u001b[0m in \u001b[0;36mtrain_on_batch\u001b[1;34m(self, x, y, sample_weight, class_weight)\u001b[0m\n\u001b[0;32m   1213\u001b[0m             \u001b[0mins\u001b[0m \u001b[1;33m=\u001b[0m \u001b[0mx\u001b[0m \u001b[1;33m+\u001b[0m \u001b[0my\u001b[0m \u001b[1;33m+\u001b[0m \u001b[0msample_weights\u001b[0m\u001b[1;33m\u001b[0m\u001b[0m\n\u001b[0;32m   1214\u001b[0m         \u001b[0mself\u001b[0m\u001b[1;33m.\u001b[0m\u001b[0m_make_train_function\u001b[0m\u001b[1;33m(\u001b[0m\u001b[1;33m)\u001b[0m\u001b[1;33m\u001b[0m\u001b[0m\n\u001b[1;32m-> 1215\u001b[1;33m         \u001b[0moutputs\u001b[0m \u001b[1;33m=\u001b[0m \u001b[0mself\u001b[0m\u001b[1;33m.\u001b[0m\u001b[0mtrain_function\u001b[0m\u001b[1;33m(\u001b[0m\u001b[0mins\u001b[0m\u001b[1;33m)\u001b[0m\u001b[1;33m\u001b[0m\u001b[0m\n\u001b[0m\u001b[0;32m   1216\u001b[0m         \u001b[1;32mreturn\u001b[0m \u001b[0munpack_singleton\u001b[0m\u001b[1;33m(\u001b[0m\u001b[0moutputs\u001b[0m\u001b[1;33m)\u001b[0m\u001b[1;33m\u001b[0m\u001b[0m\n\u001b[0;32m   1217\u001b[0m \u001b[1;33m\u001b[0m\u001b[0m\n",
      "\u001b[1;32mD:\\ProgramData\\Anaconda3\\envs\\tensorflowGPU\\lib\\site-packages\\keras\\backend\\tensorflow_backend.py\u001b[0m in \u001b[0;36m__call__\u001b[1;34m(self, inputs)\u001b[0m\n\u001b[0;32m   2664\u001b[0m                 \u001b[1;32mreturn\u001b[0m \u001b[0mself\u001b[0m\u001b[1;33m.\u001b[0m\u001b[0m_legacy_call\u001b[0m\u001b[1;33m(\u001b[0m\u001b[0minputs\u001b[0m\u001b[1;33m)\u001b[0m\u001b[1;33m\u001b[0m\u001b[0m\n\u001b[0;32m   2665\u001b[0m \u001b[1;33m\u001b[0m\u001b[0m\n\u001b[1;32m-> 2666\u001b[1;33m             \u001b[1;32mreturn\u001b[0m \u001b[0mself\u001b[0m\u001b[1;33m.\u001b[0m\u001b[0m_call\u001b[0m\u001b[1;33m(\u001b[0m\u001b[0minputs\u001b[0m\u001b[1;33m)\u001b[0m\u001b[1;33m\u001b[0m\u001b[0m\n\u001b[0m\u001b[0;32m   2667\u001b[0m         \u001b[1;32melse\u001b[0m\u001b[1;33m:\u001b[0m\u001b[1;33m\u001b[0m\u001b[0m\n\u001b[0;32m   2668\u001b[0m             \u001b[1;32mif\u001b[0m \u001b[0mpy_any\u001b[0m\u001b[1;33m(\u001b[0m\u001b[0mis_tensor\u001b[0m\u001b[1;33m(\u001b[0m\u001b[0mx\u001b[0m\u001b[1;33m)\u001b[0m \u001b[1;32mfor\u001b[0m \u001b[0mx\u001b[0m \u001b[1;32min\u001b[0m \u001b[0minputs\u001b[0m\u001b[1;33m)\u001b[0m\u001b[1;33m:\u001b[0m\u001b[1;33m\u001b[0m\u001b[0m\n",
      "\u001b[1;32mD:\\ProgramData\\Anaconda3\\envs\\tensorflowGPU\\lib\\site-packages\\keras\\backend\\tensorflow_backend.py\u001b[0m in \u001b[0;36m_call\u001b[1;34m(self, inputs)\u001b[0m\n\u001b[0;32m   2634\u001b[0m                                 \u001b[0msymbol_vals\u001b[0m\u001b[1;33m,\u001b[0m\u001b[1;33m\u001b[0m\u001b[0m\n\u001b[0;32m   2635\u001b[0m                                 session)\n\u001b[1;32m-> 2636\u001b[1;33m         \u001b[0mfetched\u001b[0m \u001b[1;33m=\u001b[0m \u001b[0mself\u001b[0m\u001b[1;33m.\u001b[0m\u001b[0m_callable_fn\u001b[0m\u001b[1;33m(\u001b[0m\u001b[1;33m*\u001b[0m\u001b[0marray_vals\u001b[0m\u001b[1;33m)\u001b[0m\u001b[1;33m\u001b[0m\u001b[0m\n\u001b[0m\u001b[0;32m   2637\u001b[0m         \u001b[1;32mreturn\u001b[0m \u001b[0mfetched\u001b[0m\u001b[1;33m[\u001b[0m\u001b[1;33m:\u001b[0m\u001b[0mlen\u001b[0m\u001b[1;33m(\u001b[0m\u001b[0mself\u001b[0m\u001b[1;33m.\u001b[0m\u001b[0moutputs\u001b[0m\u001b[1;33m)\u001b[0m\u001b[1;33m]\u001b[0m\u001b[1;33m\u001b[0m\u001b[0m\n\u001b[0;32m   2638\u001b[0m \u001b[1;33m\u001b[0m\u001b[0m\n",
      "\u001b[1;32mD:\\ProgramData\\Anaconda3\\envs\\tensorflowGPU\\lib\\site-packages\\tensorflow\\python\\client\\session.py\u001b[0m in \u001b[0;36m__call__\u001b[1;34m(self, *args, **kwargs)\u001b[0m\n\u001b[0;32m   1380\u001b[0m           ret = tf_session.TF_SessionRunCallable(\n\u001b[0;32m   1381\u001b[0m               \u001b[0mself\u001b[0m\u001b[1;33m.\u001b[0m\u001b[0m_session\u001b[0m\u001b[1;33m.\u001b[0m\u001b[0m_session\u001b[0m\u001b[1;33m,\u001b[0m \u001b[0mself\u001b[0m\u001b[1;33m.\u001b[0m\u001b[0m_handle\u001b[0m\u001b[1;33m,\u001b[0m \u001b[0margs\u001b[0m\u001b[1;33m,\u001b[0m \u001b[0mstatus\u001b[0m\u001b[1;33m,\u001b[0m\u001b[1;33m\u001b[0m\u001b[0m\n\u001b[1;32m-> 1382\u001b[1;33m               run_metadata_ptr)\n\u001b[0m\u001b[0;32m   1383\u001b[0m         \u001b[1;32mif\u001b[0m \u001b[0mrun_metadata\u001b[0m\u001b[1;33m:\u001b[0m\u001b[1;33m\u001b[0m\u001b[0m\n\u001b[0;32m   1384\u001b[0m           \u001b[0mproto_data\u001b[0m \u001b[1;33m=\u001b[0m \u001b[0mtf_session\u001b[0m\u001b[1;33m.\u001b[0m\u001b[0mTF_GetBuffer\u001b[0m\u001b[1;33m(\u001b[0m\u001b[0mrun_metadata_ptr\u001b[0m\u001b[1;33m)\u001b[0m\u001b[1;33m\u001b[0m\u001b[0m\n",
      "\u001b[1;31mKeyboardInterrupt\u001b[0m: "
     ]
    }
   ],
   "source": [
    "model.fit_generator(myGene,steps_per_epoch=steps_per_epoch,epochs=epochs_no,callbacks=[model_checkpoint])"
   ]
  },
  {
   "cell_type": "markdown",
   "metadata": {
    "colab_type": "text",
    "id": "UzINw3kISQcY"
   },
   "source": [
    "### Train with npy file"
   ]
  },
  {
   "cell_type": "markdown",
   "metadata": {},
   "source": [
    "### a. Train with Augmented data"
   ]
  },
  {
   "cell_type": "code",
   "execution_count": null,
   "metadata": {
    "colab": {},
    "colab_type": "code",
    "id": "Zrx8y-m5SQcZ"
   },
   "outputs": [],
   "source": [
    "imgs_train,imgs_mask_train = geneTrainNpy(\"data/pelvis/train/aug/\",\"data/pelvis/train/aug/\")\n",
    "#model.fit(imgs_train, imgs_mask_train, batch_size=batch_sizes, epochs=epochs_no, verbose=1,validation_split=0.2, shuffle=True, callbacks=[model_checkpoint])"
   ]
  },
  {
   "cell_type": "markdown",
   "metadata": {},
   "source": [
    "### b. Train with Original data"
   ]
  },
  {
   "cell_type": "code",
   "execution_count": null,
   "metadata": {},
   "outputs": [],
   "source": [
    "imgs_train,imgs_mask_train = geneTrainNpy(\"data/pelvis/train/image_downsampled/\",\"data/pelvis/train/label_downsampled/\", image_prefix=\"\",mask_prefix=\"\")\n",
    "model.fit(imgs_train, imgs_mask_train, batch_size=batch_size, epochs=epochs_no, verbose=1,validation_split=0.2, shuffle=True, callbacks=[model_checkpoint])"
   ]
  },
  {
   "cell_type": "markdown",
   "metadata": {
    "colab_type": "text",
    "id": "3tabcxlRSQcb"
   },
   "source": [
    "### Test your model and save predicted results"
   ]
  },
  {
   "cell_type": "markdown",
   "metadata": {
    "colab_type": "text",
    "id": "sXO5tbsVfq4V"
   },
   "source": [
    "Link to Stack overflow discussion - https://stackoverflow.com/questions/52946110/u-net-low-contrast-test-images-predict-output-is-grey-box"
   ]
  },
  {
   "cell_type": "markdown",
   "metadata": {},
   "source": [
    "### Set the output data dimension here\n",
    "\n",
    "input and target size must match!"
   ]
  },
  {
   "cell_type": "code",
   "execution_count": 7,
   "metadata": {
    "colab": {
     "base_uri": "https://localhost:8080/",
     "height": 644
    },
    "colab_type": "code",
    "executionInfo": {
     "elapsed": 15130,
     "status": "ok",
     "timestamp": 1557936123394,
     "user": {
      "displayName": "Polycarp Omondi Okock",
      "photoUrl": "https://lh6.googleusercontent.com/-EU3oIny4yXk/AAAAAAAAAAI/AAAAAAAAIAU/RmdKW9Vydf0/s64/photo.jpg",
      "userId": "13920548887298274898"
     },
     "user_tz": -60
    },
    "id": "Dgdwk0rNSQcb",
    "outputId": "8c5bb3dc-b9c8-4231-ca06-d71379af16a9"
   },
   "outputs": [],
   "source": [
    "## Resample to original sizes\n",
    "input_size = (512,512,1)\n",
    "target_size=(512,512)"
   ]
  },
  {
   "cell_type": "markdown",
   "metadata": {},
   "source": [
    "### Test model on n datasets"
   ]
  },
  {
   "cell_type": "code",
   "execution_count": null,
   "metadata": {},
   "outputs": [],
   "source": [
    "import os\n",
    "test_path = 'data/pelvis/test_orig'\n",
    "num_images = 0\n",
    "for entry in os.listdir(test_path):\n",
    "    if os.path.isfile(os.path.join(test_path, entry)):\n",
    "        if entry.lower().endswith(('.png', '.jpg', '.jpeg')):\n",
    "            num_images = num_images + 1"
   ]
  },
  {
   "cell_type": "code",
   "execution_count": 13,
   "metadata": {
    "colab": {
     "base_uri": "https://localhost:8080/",
     "height": 644
    },
    "colab_type": "code",
    "executionInfo": {
     "elapsed": 15130,
     "status": "ok",
     "timestamp": 1557936123394,
     "user": {
      "displayName": "Polycarp Omondi Okock",
      "photoUrl": "https://lh6.googleusercontent.com/-EU3oIny4yXk/AAAAAAAAAAI/AAAAAAAAIAU/RmdKW9Vydf0/s64/photo.jpg",
      "userId": "13920548887298274898"
     },
     "user_tz": -60
    },
    "id": "Dgdwk0rNSQcb",
    "outputId": "8c5bb3dc-b9c8-4231-ca06-d71379af16a9"
   },
   "outputs": [],
   "source": [
    "# Path toread datasets tp apply prediction to\n",
    "testGene = testGenerator(test_path,num_image=num_images, target_size=target_size)"
   ]
  },
  {
   "cell_type": "code",
   "execution_count": 14,
   "metadata": {
    "colab": {
     "base_uri": "https://localhost:8080/",
     "height": 644
    },
    "colab_type": "code",
    "executionInfo": {
     "elapsed": 15130,
     "status": "ok",
     "timestamp": 1557936123394,
     "user": {
      "displayName": "Polycarp Omondi Okock",
      "photoUrl": "https://lh6.googleusercontent.com/-EU3oIny4yXk/AAAAAAAAAAI/AAAAAAAAIAU/RmdKW9Vydf0/s64/photo.jpg",
      "userId": "13920548887298274898"
     },
     "user_tz": -60
    },
    "id": "Dgdwk0rNSQcb",
    "outputId": "8c5bb3dc-b9c8-4231-ca06-d71379af16a9"
   },
   "outputs": [
    {
     "name": "stderr",
     "output_type": "stream",
     "text": [
      "D:\\Research\\ML\\unet_ml\\model.py:55: UserWarning: Update your `Model` call to the Keras 2 API: `Model(outputs=Tensor(\"co..., inputs=Tensor(\"in...)`\n",
      "  model = Model(input = inputs, output = conv10)\n",
      "D:\\ProgramData\\Anaconda3\\envs\\tensorflowGPU\\lib\\site-packages\\skimage\\transform\\_warps.py:105: UserWarning: The default mode, 'constant', will be changed to 'reflect' in skimage 0.15.\n",
      "  warn(\"The default mode, 'constant', will be changed to 'reflect' in \"\n",
      "D:\\ProgramData\\Anaconda3\\envs\\tensorflowGPU\\lib\\site-packages\\skimage\\transform\\_warps.py:110: UserWarning: Anti-aliasing will be enabled by default in skimage 0.15 to avoid aliasing artifacts when down-sampling images.\n",
      "  warn(\"Anti-aliasing will be enabled by default in skimage 0.15 to \"\n"
     ]
    },
    {
     "name": "stdout",
     "output_type": "stream",
     "text": [
      "52/52 [==============================] - 7s 142ms/step\n"
     ]
    }
   ],
   "source": [
    "model = unet(input_size=input_size)\n",
    "model.load_weights(\"unet_pelvis.hdf5\")\n",
    "results = model.predict_generator(testGene,num_images,verbose=1)"
   ]
  },
  {
   "cell_type": "markdown",
   "metadata": {},
   "source": [
    "### Save the predicted data"
   ]
  },
  {
   "cell_type": "code",
   "execution_count": 15,
   "metadata": {
    "colab": {
     "base_uri": "https://localhost:8080/",
     "height": 644
    },
    "colab_type": "code",
    "executionInfo": {
     "elapsed": 15130,
     "status": "ok",
     "timestamp": 1557936123394,
     "user": {
      "displayName": "Polycarp Omondi Okock",
      "photoUrl": "https://lh6.googleusercontent.com/-EU3oIny4yXk/AAAAAAAAAAI/AAAAAAAAIAU/RmdKW9Vydf0/s64/photo.jpg",
      "userId": "13920548887298274898"
     },
     "user_tz": -60
    },
    "id": "Dgdwk0rNSQcb",
    "outputId": "8c5bb3dc-b9c8-4231-ca06-d71379af16a9"
   },
   "outputs": [
    {
     "name": "stderr",
     "output_type": "stream",
     "text": [
      "D:\\ProgramData\\Anaconda3\\envs\\tensorflowGPU\\lib\\site-packages\\skimage\\util\\dtype.py:130: UserWarning: Possible precision loss when converting from float32 to uint8\n",
      "  .format(dtypeobj_in, dtypeobj_out))\n"
     ]
    }
   ],
   "source": [
    "# Input is image and path to save the predicted datasets to\n",
    "saveResult(\"data/pelvis/test_orig_label\",results)"
   ]
  },
  {
   "cell_type": "code",
   "execution_count": null,
   "metadata": {},
   "outputs": [],
   "source": []
  }
 ],
 "metadata": {
  "accelerator": "GPU",
  "colab": {
   "collapsed_sections": [],
   "name": "trainUnet.ipynb",
   "provenance": [],
   "version": "0.3.2"
  },
  "kernelspec": {
   "display_name": "Python 3",
   "language": "python",
   "name": "python3"
  },
  "language_info": {
   "codemirror_mode": {
    "name": "ipython",
    "version": 3
   },
   "file_extension": ".py",
   "mimetype": "text/x-python",
   "name": "python",
   "nbconvert_exporter": "python",
   "pygments_lexer": "ipython3",
   "version": "3.5.6"
  }
 },
 "nbformat": 4,
 "nbformat_minor": 1
}
