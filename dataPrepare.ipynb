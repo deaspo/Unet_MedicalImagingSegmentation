{
 "cells": [
  {
   "cell_type": "markdown",
   "metadata": {
    "colab_type": "text",
    "id": "0NvB_kPKMqGk"
   },
   "source": [
    "# Data augmentation \n",
    "\n",
    "In deep learning tasks, a lot of data is need to train DNN model, when the dataset is not big enough, data augmentation should be applied.\n",
    "\n",
    "keras.preprocessing.image.ImageDataGenerator is a data generator, which can feed the DNN with data like : (data,label), it can also do data augmentation at the same time.\n",
    "\n",
    "It is very convenient for us to use keras.preprocessing.image.ImageDataGenerator to do data augmentation by implement image rotation, shift, rescale and so on... see [keras documentation](https://keras.io/preprocessing/image/) for detail.\n",
    "\n",
    "For image segmentation tasks, the image and mask must be transformed **together!!**"
   ]
  },
  {
   "cell_type": "code",
   "execution_count": 1,
   "metadata": {
    "colab": {},
    "colab_type": "code",
    "id": "FKLgnoWwP8dh"
   },
   "outputs": [
    {
     "name": "stderr",
     "output_type": "stream",
     "text": [
      "Using TensorFlow backend.\n"
     ]
    }
   ],
   "source": [
    "from data import *"
   ]
  },
  {
   "cell_type": "markdown",
   "metadata": {
    "colab_type": "text",
    "id": "lGctA_b4MqGk"
   },
   "source": [
    "## Define your data generator\n",
    "\n",
    "If you want to visualize your data augmentation result, set save_to_dir = your path"
   ]
  },
  {
   "cell_type": "code",
   "execution_count": 2,
   "metadata": {
    "colab": {},
    "colab_type": "code",
    "id": "HUNDS9eDMqGl"
   },
   "outputs": [],
   "source": [
    "#if you don't want to do data augmentation, set data_gen_args as an empty dict.\n",
    "#data_gen_args = dict()\n",
    "\n",
    "data_gen_args = dict(rotation_range=0.2,\n",
    "                    width_shift_range=0.05,\n",
    "                    height_shift_range=0.05,\n",
    "                    shear_range=0.05,\n",
    "                    zoom_range=0.05,\n",
    "                    horizontal_flip=True,\n",
    "                    fill_mode='nearest')"
   ]
  },
  {
   "cell_type": "code",
   "execution_count": 3,
   "metadata": {},
   "outputs": [],
   "source": [
    "batch_size = 32"
   ]
  },
  {
   "cell_type": "markdown",
   "metadata": {},
   "source": [
    "## Half Body"
   ]
  },
  {
   "cell_type": "code",
   "execution_count": 4,
   "metadata": {
    "colab": {},
    "colab_type": "code",
    "id": "HUNDS9eDMqGl"
   },
   "outputs": [],
   "source": [
    "myGenerator_hfbody = trainGenerator(batch_size,'data/halfbody/train','image','label',data_gen_args,save_to_dir = \"data/halfbody/train/aug\")"
   ]
  },
  {
   "cell_type": "markdown",
   "metadata": {
    "colab_type": "text",
    "id": "CE-aO0AnMqGo"
   },
   "source": [
    "## Visualize your data augmentation result"
   ]
  },
  {
   "cell_type": "code",
   "execution_count": 5,
   "metadata": {
    "colab": {
     "base_uri": "https://localhost:8080/",
     "height": 52
    },
    "colab_type": "code",
    "executionInfo": {
     "elapsed": 24347,
     "status": "ok",
     "timestamp": 1557915048813,
     "user": {
      "displayName": "Polycarp Omondi Okock",
      "photoUrl": "https://lh6.googleusercontent.com/-EU3oIny4yXk/AAAAAAAAAAI/AAAAAAAAIAU/RmdKW9Vydf0/s64/photo.jpg",
      "userId": "13920548887298274898"
     },
     "user_tz": -60
    },
    "id": "-cBWsX8pMqGp",
    "outputId": "42de8cfe-fa6a-45be-b5a2-79e40708fb43"
   },
   "outputs": [],
   "source": [
    "#you will see ~ batch_size * num_batch transformed images and their masks in data/anatomy/train/aug\n",
    "num_batch = 50"
   ]
  },
  {
   "cell_type": "code",
   "execution_count": 6,
   "metadata": {
    "colab": {
     "base_uri": "https://localhost:8080/",
     "height": 52
    },
    "colab_type": "code",
    "executionInfo": {
     "elapsed": 24347,
     "status": "ok",
     "timestamp": 1557915048813,
     "user": {
      "displayName": "Polycarp Omondi Okock",
      "photoUrl": "https://lh6.googleusercontent.com/-EU3oIny4yXk/AAAAAAAAAAI/AAAAAAAAIAU/RmdKW9Vydf0/s64/photo.jpg",
      "userId": "13920548887298274898"
     },
     "user_tz": -60
    },
    "id": "-cBWsX8pMqGp",
    "outputId": "42de8cfe-fa6a-45be-b5a2-79e40708fb43"
   },
   "outputs": [
    {
     "name": "stdout",
     "output_type": "stream",
     "text": [
      "Found 2029 images belonging to 1 classes.\n",
      "Found 2029 images belonging to 1 classes.\n"
     ]
    }
   ],
   "source": [
    "for i,batch in enumerate(myGenerator_hfbody):\n",
    "    if(i >= num_batch):\n",
    "        break"
   ]
  },
  {
   "cell_type": "markdown",
   "metadata": {
    "colab_type": "text",
    "id": "SGwERmSlMqGr"
   },
   "source": [
    "## Create .npy data\n",
    "\n",
    "If your computer has enough memory, you can create npy files containing all your images and masks, and feed your DNN with them.\n",
    "\n",
    "### From augemented data"
   ]
  },
  {
   "cell_type": "code",
   "execution_count": null,
   "metadata": {
    "colab": {},
    "colab_type": "code",
    "id": "5Xp9XWDpMqGs"
   },
   "outputs": [],
   "source": [
    "#image_arr_hfbody,mask_arr_hfbody = geneTrainNpy(\"data/halfbody/train/aug/\",\"data/halfbody/train/aug/\")\n",
    "np.save(\"data/image_arr.npy\",image_arr_hfbody)\n",
    "np.save(\"data/mask_arr.npy\",mask_arr_hfbody)"
   ]
  },
  {
   "cell_type": "markdown",
   "metadata": {},
   "source": [
    "### From original data"
   ]
  },
  {
   "cell_type": "code",
   "execution_count": null,
   "metadata": {},
   "outputs": [],
   "source": [
    "image_arr_hfbody,mask_arr_hfbody = geneTrainNpy(\"data/halfbody/train/image_downsampled/\",\"data/halfbody/train/label_downsampled/\", image_prefix=\"\",mask_prefix=\"\")\n",
    "np.save(\"data/image_arr.npy\",image_arr)\n",
    "np.save(\"data/mask_arr.npy\",mask_arr)"
   ]
  },
  {
   "cell_type": "markdown",
   "metadata": {},
   "source": [
    "### Checks!"
   ]
  },
  {
   "cell_type": "code",
   "execution_count": null,
   "metadata": {},
   "outputs": [],
   "source": [
    "image_arr_hfbody.shape\n",
    "mask_arr_hfbody.shape"
   ]
  },
  {
   "cell_type": "markdown",
   "metadata": {},
   "source": [
    "## Pelvis"
   ]
  },
  {
   "cell_type": "markdown",
   "metadata": {},
   "source": [
    "### Data Generator"
   ]
  },
  {
   "cell_type": "code",
   "execution_count": null,
   "metadata": {},
   "outputs": [],
   "source": [
    "myGenerator_pelvis = trainGenerator(batch_size,'data/pelvis/train','image','label',data_gen_args,save_to_dir = \"data/pelvis/train/aug\")"
   ]
  },
  {
   "cell_type": "markdown",
   "metadata": {},
   "source": [
    "### Visualize Results"
   ]
  },
  {
   "cell_type": "code",
   "execution_count": null,
   "metadata": {},
   "outputs": [],
   "source": [
    "for i,batch in enumerate(myGenerator_pelvis):\n",
    "    if(i >= num_batch):\n",
    "        break"
   ]
  },
  {
   "cell_type": "markdown",
   "metadata": {},
   "source": [
    "### Create .npy data"
   ]
  },
  {
   "cell_type": "markdown",
   "metadata": {},
   "source": [
    "### From augemented data"
   ]
  },
  {
   "cell_type": "code",
   "execution_count": null,
   "metadata": {},
   "outputs": [],
   "source": [
    "#image_arr_pelvis,mask_arr_pelvis = geneTrainNpy(\"data/pelvis/train/aug/\",\"data/pelvis/train/aug/\")\n",
    "np.save(\"data/image_arr.npy\",image_arr_pelvis)\n",
    "np.save(\"data/mask_arr.npy\",mask_arr_pelvis)"
   ]
  },
  {
   "cell_type": "markdown",
   "metadata": {},
   "source": [
    "### From original data"
   ]
  },
  {
   "cell_type": "code",
   "execution_count": null,
   "metadata": {},
   "outputs": [],
   "source": [
    "#image_arr_pelvis,mask_arr_pelvis = geneTrainNpy(\"data/pelvis/train/image_downsampled/\",\"data/pelvis/train/label_downsampled/\", image_prefix=\"\",mask_prefix=\"\")\n",
    "np.save(\"data/image_arr.npy\",image_arr_pelvis)\n",
    "np.save(\"data/mask_arr.npy\",mask_arr_pelvis)"
   ]
  },
  {
   "cell_type": "markdown",
   "metadata": {},
   "source": [
    "### Checks!"
   ]
  },
  {
   "cell_type": "code",
   "execution_count": null,
   "metadata": {},
   "outputs": [],
   "source": [
    "image_arr_pelvis.shape\n",
    "mask_arr_pelvis.shape"
   ]
  },
  {
   "cell_type": "markdown",
   "metadata": {},
   "source": [
    "## Chest\n",
    "\n",
    "### Data Generator"
   ]
  },
  {
   "cell_type": "code",
   "execution_count": null,
   "metadata": {},
   "outputs": [],
   "source": [
    "myGenerator_chest = trainGenerator(batch_size,'data/chest/train','image','label',data_gen_args,save_to_dir = \"data/chest/train/aug\")"
   ]
  },
  {
   "cell_type": "markdown",
   "metadata": {},
   "source": [
    "### Visualize Results"
   ]
  },
  {
   "cell_type": "code",
   "execution_count": null,
   "metadata": {},
   "outputs": [],
   "source": [
    "for i,batch in enumerate(myGenerator_chest):\n",
    "    if(i >= num_batch):\n",
    "        break"
   ]
  },
  {
   "cell_type": "markdown",
   "metadata": {},
   "source": [
    "### Create .npy data\n",
    "\n",
    "### From Augmented Data"
   ]
  },
  {
   "cell_type": "code",
   "execution_count": null,
   "metadata": {},
   "outputs": [],
   "source": [
    "#image_arr_chest,mask_arr_chest = geneTrainNpy(\"data/chest/train/aug/\",\"data/chest/train/aug/\")\n",
    "np.save(\"data/image_arr.npy\",image_arr_chest)\n",
    "np.save(\"data/mask_arr.npy\",mask_arr_chest)"
   ]
  },
  {
   "cell_type": "markdown",
   "metadata": {},
   "source": [
    "### From Original Data"
   ]
  },
  {
   "cell_type": "code",
   "execution_count": null,
   "metadata": {},
   "outputs": [],
   "source": [
    "#image_arr_chest,mask_arr_chest = geneTrainNpy(\"data/chest/train/image_downsampled/\",\"data/chest/train/label_downsampled/\", image_prefix=\"\",mask_prefix=\"\")\n",
    "np.save(\"data/image_arr.npy\",image_arr_chest)\n",
    "np.save(\"data/mask_arr.npy\",mask_arr_chest)"
   ]
  },
  {
   "cell_type": "markdown",
   "metadata": {},
   "source": [
    "### Checks!"
   ]
  },
  {
   "cell_type": "code",
   "execution_count": null,
   "metadata": {},
   "outputs": [],
   "source": [
    "image_arr_chest.shape\n",
    "mask_arr_chest.shape"
   ]
  },
  {
   "cell_type": "markdown",
   "metadata": {},
   "source": [
    "## Shoulder\n",
    "\n",
    "### Data Generator"
   ]
  },
  {
   "cell_type": "code",
   "execution_count": null,
   "metadata": {},
   "outputs": [],
   "source": [
    "myGenerator_shoulder = trainGenerator(batch_size,'data/shoulder/train','image','label',data_gen_args,save_to_dir = \"data/shoulder/train/aug\")"
   ]
  },
  {
   "cell_type": "markdown",
   "metadata": {},
   "source": [
    "### Visualize Results"
   ]
  },
  {
   "cell_type": "code",
   "execution_count": null,
   "metadata": {},
   "outputs": [],
   "source": [
    "for i,batch in enumerate(myGenerator_shoulder):\n",
    "    if(i >= num_batch):\n",
    "        break"
   ]
  },
  {
   "cell_type": "markdown",
   "metadata": {},
   "source": [
    "### Create .npy data\n",
    "\n",
    "### From Augmented Data"
   ]
  },
  {
   "cell_type": "code",
   "execution_count": null,
   "metadata": {},
   "outputs": [],
   "source": [
    "#image_arr_shoulder,mask_arr_shoulder = geneTrainNpy(\"data/shoulder/train/aug/\",\"data/shoulder/train/aug/\")\n",
    "np.save(\"data/image_arr.npy\",image_arr_shoulder)\n",
    "np.save(\"data/mask_arr.npy\",mask_arr_shoulder)"
   ]
  },
  {
   "cell_type": "markdown",
   "metadata": {},
   "source": [
    "### From Original Data"
   ]
  },
  {
   "cell_type": "code",
   "execution_count": null,
   "metadata": {},
   "outputs": [],
   "source": [
    "#image_arr_shoulder,mask_arr_shoulder = geneTrainNpy(\"data/shoulder/train/image_downsampled/\",\"data/shoulder/train/label_downsampled/\", image_prefix=\"\",mask_prefix=\"\")\n",
    "np.save(\"data/image_arr.npy\",image_arr_shoulder)\n",
    "np.save(\"data/mask_arr.npy\",mask_arr_shoulder)"
   ]
  },
  {
   "cell_type": "markdown",
   "metadata": {},
   "source": [
    "### Checks!"
   ]
  },
  {
   "cell_type": "code",
   "execution_count": null,
   "metadata": {},
   "outputs": [],
   "source": [
    "image_arr_shoulder.shape\n",
    "mask_arr_shoulder.shape"
   ]
  }
 ],
 "metadata": {
  "accelerator": "GPU",
  "colab": {
   "collapsed_sections": [],
   "name": "dataPrepare.ipynb",
   "provenance": [],
   "version": "0.3.2"
  },
  "kernelspec": {
   "display_name": "Python 3",
   "language": "python",
   "name": "python3"
  },
  "language_info": {
   "codemirror_mode": {
    "name": "ipython",
    "version": 3
   },
   "file_extension": ".py",
   "mimetype": "text/x-python",
   "name": "python",
   "nbconvert_exporter": "python",
   "pygments_lexer": "ipython3",
   "version": "3.5.6"
  }
 },
 "nbformat": 4,
 "nbformat_minor": 1
}
