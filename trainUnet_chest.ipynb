{
 "cells": [
  {
   "cell_type": "code",
   "execution_count": null,
   "metadata": {
    "colab": {},
    "colab_type": "code",
    "id": "jy_2-BghSVce"
   },
   "outputs": [],
   "source": [
    "from model import *\n",
    "from data import *"
   ]
  },
  {
   "cell_type": "markdown",
   "metadata": {
    "colab_type": "text",
    "id": "QpsQS266SQcS"
   },
   "source": [
    "## Train your Unet with medical data - Pelvis\n",
    "it is a binary classification task.\n",
    "\n",
    "The input shape of image and mask are the same :(batch_size,rows,cols,channel = 1)"
   ]
  },
  {
   "cell_type": "markdown",
   "metadata": {
    "colab_type": "text",
    "id": "HiMahBZNSQcT"
   },
   "source": [
    "### Set hyperparameters\n",
    "\n",
    "* epochs_no - more runs and improvs generalisation of the model\n",
    "* batch_size - number of samples to run at each epoch step"
   ]
  },
  {
   "cell_type": "code",
   "execution_count": null,
   "metadata": {},
   "outputs": [],
   "source": [
    "# Hyper parametrs\n",
    "batch_size = 8\n",
    "epochs_no = 2000\n",
    "steps_per_epoch = epochs_no / batch_size\n",
    "epochs_no = 100"
   ]
  },
  {
   "cell_type": "markdown",
   "metadata": {},
   "source": [
    "### Model Definition"
   ]
  },
  {
   "cell_type": "code",
   "execution_count": null,
   "metadata": {},
   "outputs": [],
   "source": [
    "input_size = (256,256,1) # actual data\n",
    "#input_size = (256,256,1) # Augmented data\n",
    "model = unet(input_size=input_size)\n",
    "model_checkpoint = ModelCheckpoint('unet_chest.hdf5', monitor='loss',verbose=1, save_best_only=True)"
   ]
  },
  {
   "cell_type": "code",
   "execution_count": null,
   "metadata": {},
   "outputs": [],
   "source": [
    "# callbacks = [ModelCheckpoint(filepathAcc, monitor='val_acc', ...),ModelCheckpoint(filepathLoss, monitor='val_loss', ...)]"
   ]
  },
  {
   "cell_type": "markdown",
   "metadata": {},
   "source": [
    "### Train with data generator"
   ]
  },
  {
   "cell_type": "code",
   "execution_count": null,
   "metadata": {
    "colab": {
     "base_uri": "https://localhost:8080/",
     "height": 2550
    },
    "colab_type": "code",
    "executionInfo": {
     "elapsed": 9929571,
     "status": "error",
     "timestamp": 1557936099610,
     "user": {
      "displayName": "Polycarp Omondi Okock",
      "photoUrl": "https://lh6.googleusercontent.com/-EU3oIny4yXk/AAAAAAAAAAI/AAAAAAAAIAU/RmdKW9Vydf0/s64/photo.jpg",
      "userId": "13920548887298274898"
     },
     "user_tz": -60
    },
    "id": "et43jcK1SQcU",
    "outputId": "d631b7e6-7aa6-4e59-8ccc-fb367eaca8bf"
   },
   "outputs": [],
   "source": [
    "#if you don't want to do data augmentation, set data_gen_args as an empty dict.\n",
    "#data_gen_args = dict()\n",
    "\n",
    "data_gen_args = dict(rotation_range=0.2,\n",
    "                    width_shift_range=0.05,\n",
    "                    height_shift_range=0.05,\n",
    "                    shear_range=0.05,\n",
    "                    zoom_range=0.05,\n",
    "                    horizontal_flip=True,\n",
    "                    fill_mode='nearest')"
   ]
  },
  {
   "cell_type": "code",
   "execution_count": null,
   "metadata": {
    "colab": {
     "base_uri": "https://localhost:8080/",
     "height": 2550
    },
    "colab_type": "code",
    "executionInfo": {
     "elapsed": 9929571,
     "status": "error",
     "timestamp": 1557936099610,
     "user": {
      "displayName": "Polycarp Omondi Okock",
      "photoUrl": "https://lh6.googleusercontent.com/-EU3oIny4yXk/AAAAAAAAAAI/AAAAAAAAIAU/RmdKW9Vydf0/s64/photo.jpg",
      "userId": "13920548887298274898"
     },
     "user_tz": -60
    },
    "id": "et43jcK1SQcU",
    "outputId": "d631b7e6-7aa6-4e59-8ccc-fb367eaca8bf"
   },
   "outputs": [],
   "source": [
    "# Actual data size ~train, label folders and uses augmented saved data in ~aug folder\n",
    "myGene = trainGenerator(batch_size,'data/chest/train','image','label',data_gen_args,save_to_dir = None)\n",
    "\n",
    "# Downsampled data and no augmentation\n",
    "#myGene = trainGenerator(batch_size,'data/chest/train','image_downsampled','label_downsampled',data_gen_args,save_to_dir = None)"
   ]
  },
  {
   "cell_type": "code",
   "execution_count": null,
   "metadata": {
    "colab": {
     "base_uri": "https://localhost:8080/",
     "height": 2550
    },
    "colab_type": "code",
    "executionInfo": {
     "elapsed": 9929571,
     "status": "error",
     "timestamp": 1557936099610,
     "user": {
      "displayName": "Polycarp Omondi Okock",
      "photoUrl": "https://lh6.googleusercontent.com/-EU3oIny4yXk/AAAAAAAAAAI/AAAAAAAAIAU/RmdKW9Vydf0/s64/photo.jpg",
      "userId": "13920548887298274898"
     },
     "user_tz": -60
    },
    "id": "et43jcK1SQcU",
    "outputId": "d631b7e6-7aa6-4e59-8ccc-fb367eaca8bf"
   },
   "outputs": [],
   "source": [
    "model.fit_generator(myGene,steps_per_epoch=steps_per_epoch,epochs=epochs_no,callbacks=[model_checkpoint])"
   ]
  },
  {
   "cell_type": "markdown",
   "metadata": {
    "colab_type": "text",
    "id": "UzINw3kISQcY"
   },
   "source": [
    "### Train with npy file"
   ]
  },
  {
   "cell_type": "markdown",
   "metadata": {},
   "source": [
    "### a. Train with Augmented data"
   ]
  },
  {
   "cell_type": "code",
   "execution_count": null,
   "metadata": {
    "colab": {},
    "colab_type": "code",
    "id": "Zrx8y-m5SQcZ"
   },
   "outputs": [],
   "source": [
    "imgs_train,imgs_mask_train = geneTrainNpy(\"data/chest/train/aug/\",\"data/chest/train/aug/\")\n",
    "#model.fit(imgs_train, imgs_mask_train, batch_size=batch_sizes, epochs=epochs_no, verbose=1,validation_split=0.2, shuffle=True, callbacks=[model_checkpoint])"
   ]
  },
  {
   "cell_type": "markdown",
   "metadata": {},
   "source": [
    "### b. Train with Original data"
   ]
  },
  {
   "cell_type": "code",
   "execution_count": null,
   "metadata": {},
   "outputs": [],
   "source": [
    "imgs_train,imgs_mask_train = geneTrainNpy(\"data/chest/train/image_downsampled/\",\"data/chest/train/label_downsampled/\", image_prefix=\"\",mask_prefix=\"\")\n",
    "model.fit(imgs_train, imgs_mask_train, batch_size=batch_size, epochs=epochs_no, verbose=1,validation_split=0.2, shuffle=True, callbacks=[model_checkpoint])"
   ]
  },
  {
   "cell_type": "markdown",
   "metadata": {
    "colab_type": "text",
    "id": "3tabcxlRSQcb"
   },
   "source": [
    "### Test your model and save predicted results"
   ]
  },
  {
   "cell_type": "markdown",
   "metadata": {
    "colab_type": "text",
    "id": "sXO5tbsVfq4V"
   },
   "source": [
    "Link to Stack overflow discussion - https://stackoverflow.com/questions/52946110/u-net-low-contrast-test-images-predict-output-is-grey-box"
   ]
  },
  {
   "cell_type": "markdown",
   "metadata": {},
   "source": [
    "### Set the output data dimension here\n",
    "\n",
    "input and target size must match!"
   ]
  },
  {
   "cell_type": "code",
   "execution_count": null,
   "metadata": {
    "colab": {
     "base_uri": "https://localhost:8080/",
     "height": 644
    },
    "colab_type": "code",
    "executionInfo": {
     "elapsed": 15130,
     "status": "ok",
     "timestamp": 1557936123394,
     "user": {
      "displayName": "Polycarp Omondi Okock",
      "photoUrl": "https://lh6.googleusercontent.com/-EU3oIny4yXk/AAAAAAAAAAI/AAAAAAAAIAU/RmdKW9Vydf0/s64/photo.jpg",
      "userId": "13920548887298274898"
     },
     "user_tz": -60
    },
    "id": "Dgdwk0rNSQcb",
    "outputId": "8c5bb3dc-b9c8-4231-ca06-d71379af16a9"
   },
   "outputs": [],
   "source": [
    "## Resample to original sizes\n",
    "input_size = (512,512,1)\n",
    "target_size=(512,512)"
   ]
  },
  {
   "cell_type": "markdown",
   "metadata": {},
   "source": [
    "### Test model on n datasets"
   ]
  },
  {
   "cell_type": "code",
   "execution_count": null,
   "metadata": {},
   "outputs": [],
   "source": [
    "import os\n",
    "test_path = 'data/chest/train/image/'\n",
    "num_images = 0\n",
    "for entry in os.listdir(test_path):\n",
    "    if os.path.isfile(os.path.join(test_path, entry)):\n",
    "        if entry.lower().endswith(('.png', '.jpg', '.jpeg')):\n",
    "            num_images = num_images + 1"
   ]
  },
  {
   "cell_type": "code",
   "execution_count": null,
   "metadata": {
    "colab": {
     "base_uri": "https://localhost:8080/",
     "height": 644
    },
    "colab_type": "code",
    "executionInfo": {
     "elapsed": 15130,
     "status": "ok",
     "timestamp": 1557936123394,
     "user": {
      "displayName": "Polycarp Omondi Okock",
      "photoUrl": "https://lh6.googleusercontent.com/-EU3oIny4yXk/AAAAAAAAAAI/AAAAAAAAIAU/RmdKW9Vydf0/s64/photo.jpg",
      "userId": "13920548887298274898"
     },
     "user_tz": -60
    },
    "id": "Dgdwk0rNSQcb",
    "outputId": "8c5bb3dc-b9c8-4231-ca06-d71379af16a9"
   },
   "outputs": [],
   "source": [
    "# Path toread datasets tp apply prediction to\n",
    "testGene = testGenerator(test_path,num_image=num_images, target_size=target_size)"
   ]
  },
  {
   "cell_type": "code",
   "execution_count": null,
   "metadata": {
    "colab": {
     "base_uri": "https://localhost:8080/",
     "height": 644
    },
    "colab_type": "code",
    "executionInfo": {
     "elapsed": 15130,
     "status": "ok",
     "timestamp": 1557936123394,
     "user": {
      "displayName": "Polycarp Omondi Okock",
      "photoUrl": "https://lh6.googleusercontent.com/-EU3oIny4yXk/AAAAAAAAAAI/AAAAAAAAIAU/RmdKW9Vydf0/s64/photo.jpg",
      "userId": "13920548887298274898"
     },
     "user_tz": -60
    },
    "id": "Dgdwk0rNSQcb",
    "outputId": "8c5bb3dc-b9c8-4231-ca06-d71379af16a9"
   },
   "outputs": [],
   "source": [
    "model = unet(input_size=input_size)\n",
    "model.load_weights(\"unet_chest.hdf5\")\n",
    "results = model.predict_generator(testGene,num_images,verbose=1)"
   ]
  },
  {
   "cell_type": "markdown",
   "metadata": {},
   "source": [
    "### Save the predicted data"
   ]
  },
  {
   "cell_type": "code",
   "execution_count": null,
   "metadata": {
    "colab": {
     "base_uri": "https://localhost:8080/",
     "height": 644
    },
    "colab_type": "code",
    "executionInfo": {
     "elapsed": 15130,
     "status": "ok",
     "timestamp": 1557936123394,
     "user": {
      "displayName": "Polycarp Omondi Okock",
      "photoUrl": "https://lh6.googleusercontent.com/-EU3oIny4yXk/AAAAAAAAAAI/AAAAAAAAIAU/RmdKW9Vydf0/s64/photo.jpg",
      "userId": "13920548887298274898"
     },
     "user_tz": -60
    },
    "id": "Dgdwk0rNSQcb",
    "outputId": "8c5bb3dc-b9c8-4231-ca06-d71379af16a9"
   },
   "outputs": [],
   "source": [
    "# Input is image and path to save the predicted datasets to\n",
    "saveResult(\"data/chest/test_orig_label\",results)"
   ]
  },
  {
   "cell_type": "code",
   "execution_count": null,
   "metadata": {},
   "outputs": [],
   "source": []
  }
 ],
 "metadata": {
  "accelerator": "GPU",
  "colab": {
   "collapsed_sections": [],
   "name": "trainUnet.ipynb",
   "provenance": [],
   "version": "0.3.2"
  },
  "kernelspec": {
   "display_name": "Python 3",
   "language": "python",
   "name": "python3"
  },
  "language_info": {
   "codemirror_mode": {
    "name": "ipython",
    "version": 3
   },
   "file_extension": ".py",
   "mimetype": "text/x-python",
   "name": "python",
   "nbconvert_exporter": "python",
   "pygments_lexer": "ipython3",
   "version": "3.5.6"
  }
 },
 "nbformat": 4,
 "nbformat_minor": 1
}
